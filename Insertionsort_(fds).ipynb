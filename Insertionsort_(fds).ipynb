{
  "nbformat": 4,
  "nbformat_minor": 0,
  "metadata": {
    "colab": {
      "name": "Insertionsort (fds).ipynb",
      "provenance": [],
      "collapsed_sections": [],
      "authorship_tag": "ABX9TyMqwpUv4+86iRIWr8Utb6Ug"
    },
    "kernelspec": {
      "name": "python3",
      "display_name": "Python 3"
    },
    "language_info": {
      "name": "python"
    }
  },
  "cells": [
    {
      "cell_type": "code",
      "metadata": {
        "colab": {
          "base_uri": "https://localhost:8080/"
        },
        "id": "AYeCFuN9F5gZ",
        "outputId": "949fc669-972f-4da5-c5b6-a9352978cf90"
      },
      "source": [
        "def insertion_sort(sort_list):\n",
        "    for i in range(1, len(sort_list)):\n",
        "        key = sort_list[i]\n",
        "        j = i - 1\n",
        "        while j >= 0 and key < sort_list[j]:\n",
        "            sort_list[j + 1] = sort_list[j]\n",
        "            j -= 1\n",
        "        sort_list[j + 1] = key\n",
        "    print('\\nThe sorted list:', sort_list)\n",
        "list = []\n",
        "size = int(input(\"\\nEnter no of students:\"))\n",
        "for i in range(size):\n",
        "    elements = int(input(\"Enter percentage of students:\"))\n",
        "    list.append(elements)\n",
        "insertion_sort(list)"
      ],
      "execution_count": 3,
      "outputs": [
        {
          "output_type": "stream",
          "name": "stdout",
          "text": [
            "\n",
            "Enter no of students:6\n",
            "Enter percentage of students:78\n",
            "Enter percentage of students:97\n",
            "Enter percentage of students:69\n",
            "Enter percentage of students:84\n",
            "Enter percentage of students:88\n",
            "Enter percentage of students:73\n",
            "\n",
            "The sorted list: [69, 73, 78, 84, 88, 97]\n"
          ]
        }
      ]
    },
    {
      "cell_type": "code",
      "metadata": {
        "id": "pp299ffFH7yQ"
      },
      "source": [
        ""
      ],
      "execution_count": null,
      "outputs": []
    }
  ]
}