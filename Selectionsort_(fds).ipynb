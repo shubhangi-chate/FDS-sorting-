{
  "nbformat": 4,
  "nbformat_minor": 0,
  "metadata": {
    "colab": {
      "name": "Selectionsort (fds).ipynb",
      "provenance": [],
      "collapsed_sections": [],
      "authorship_tag": "ABX9TyMRp5luk4oVYACU4PqJQYi8"
    },
    "kernelspec": {
      "name": "python3",
      "display_name": "Python 3"
    },
    "language_info": {
      "name": "python"
    }
  },
  "cells": [
    {
      "cell_type": "code",
      "metadata": {
        "colab": {
          "base_uri": "https://localhost:8080/"
        },
        "id": "u6YUzJfE89YF",
        "outputId": "19b1eaa2-ae14-4d90-829d-eeac82c84c8d"
      },
      "source": [
        "def selectionSort(array):\n",
        "  n = len(array)\n",
        "  for i in range(n):\n",
        "    minimum = i\n",
        "    for j in range(i+1, n):\n",
        "      if (array[j] < array[minimum]):\n",
        "        minimum = j\n",
        "        temp = array[i]\n",
        "    array[i] = array[minimum]\n",
        "    array[minimum] = temp\n",
        "    return array\n",
        "def createArray(n):\n",
        "    array= []\n",
        "    for i in range(n):\n",
        "        percentage = float(input(f\"Enter percentage of student {i+1}: \"))\n",
        "        array.append(percentage)\n",
        "    return array\n",
        "\n",
        "n = int(input(\"Enter total number of students value: \"))\n",
        "array = createArray(n)\n",
        "print(\"Input:\", array)\n",
        "print(\"Selection Sort:\")\n",
        "print(\"Output\",selectionSort(array))\n",
        "newarr=array[::-1]\n",
        "print(\"Top 5 Score:\", newarr[0:5])"
      ],
      "execution_count": 5,
      "outputs": [
        {
          "output_type": "stream",
          "name": "stdout",
          "text": [
            "Enter total number of students value: 8\n",
            "Enter percentage of student 1: 95.6\n",
            "Enter percentage of student 2: 69.98\n",
            "Enter percentage of student 3: 77.8\n",
            "Enter percentage of student 4: 59.8\n",
            "Enter percentage of student 5: 81.7\n",
            "Enter percentage of student 6: 85.9\n",
            "Enter percentage of student 7: 90.20\n",
            "Enter percentage of student 8: 78.09\n",
            "Input: [95.6, 69.98, 77.8, 59.8, 81.7, 85.9, 90.2, 78.09]\n",
            "Selection Sort:\n",
            "Output [59.8, 69.98, 77.8, 95.6, 81.7, 85.9, 90.2, 78.09]\n",
            "Top 5 Score: [78.09, 90.2, 85.9, 81.7, 95.6]\n"
          ]
        }
      ]
    },
    {
      "cell_type": "code",
      "metadata": {
        "id": "Yw4mT0bS99lb"
      },
      "source": [
        ""
      ],
      "execution_count": null,
      "outputs": []
    }
  ]
}