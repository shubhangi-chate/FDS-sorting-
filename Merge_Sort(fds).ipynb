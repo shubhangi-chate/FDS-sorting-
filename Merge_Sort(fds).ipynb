{
  "nbformat": 4,
  "nbformat_minor": 0,
  "metadata": {
    "colab": {
      "name": "Merge Sort(fds).ipynb",
      "provenance": [],
      "collapsed_sections": [],
      "authorship_tag": "ABX9TyOxMCSR/4ueJ6bi/6tb3MGd"
    },
    "kernelspec": {
      "name": "python3",
      "display_name": "Python 3"
    },
    "language_info": {
      "name": "python"
    }
  },
  "cells": [
    {
      "cell_type": "code",
      "metadata": {
        "colab": {
          "base_uri": "https://localhost:8080/"
        },
        "id": "ZLS805G6JVuW",
        "outputId": "cb96c2f1-8145-4a80-be28-fb29a7db1a12"
      },
      "source": [
        "# Merges two subarrays of arr[].\n",
        "# First subarray is arr[l..m]\n",
        "# Second subarray is arr[m+1..r]\n",
        "\n",
        "def merge(arr, l, m, r):\n",
        "\tn1 = m - l + 1\n",
        "\tn2 = r - m\n",
        "\n",
        "\t# create temp arrays\n",
        "\tL = [0] * (n1)\n",
        "\tR = [0] * (n2)\n",
        "\n",
        "\t# Copy data to temp arrays L[] and R[]\n",
        "\tfor i in range(0, n1):\n",
        "\t\tL[i] = arr[l + i]\n",
        "\n",
        "\tfor j in range(0, n2):\n",
        "\t\tR[j] = arr[m + 1 + j]\n",
        "\n",
        "\t# Merge the temp arrays back into arr[l..r]\n",
        "\ti = 0\t # Initial index of first subarray\n",
        "\tj = 0\t # Initial index of second subarray\n",
        "\tk = l\t # Initial index of merged subarray\n",
        "\n",
        "\twhile i < n1 and j < n2:\n",
        "\t\tif L[i] <= R[j]:\n",
        "\t\t\tarr[k] = L[i]\n",
        "\t\t\ti += 1\n",
        "\t\telse:\n",
        "\t\t\tarr[k] = R[j]\n",
        "\t\t\tj += 1\n",
        "\t\tk += 1\n",
        "\n",
        "\t# Copy the remaining elements of L[], if there are any\n",
        "\twhile i < n1:\n",
        "\t\tarr[k] = L[i]\n",
        "\t\ti += 1\n",
        "\t\tk += 1\n",
        "\n",
        "\t# Copy the remaining elements of R[], if there are any\n",
        "\twhile j < n2:\n",
        "\t\tarr[k] = R[j]\n",
        "\t\tj += 1\n",
        "\t\tk += 1\n",
        "\n",
        "# l is for left index and r is right index of the\n",
        "# sub-array of arr to be sorted\n",
        "\n",
        "def mergeSort(arr, l, r):\n",
        "\tif l < r:\n",
        "\n",
        "\t\t# Same as (l+r)//2, but avoids overflow for\n",
        "\t\t# large l and h\n",
        "\t\tm = l+(r-l)//2\n",
        "\n",
        "\t\t# Sort first and second halves\n",
        "\t\tmergeSort(arr, l, m)\n",
        "\t\tmergeSort(arr, m+1, r)\n",
        "\t\tmerge(arr, l, m, r)\n",
        "\n",
        "\n",
        "#unsorted array\n",
        "arr=[]\n",
        "n = int(input(\"no of elements:\"))\n",
        "for i in range(0, n):\n",
        "\telements= int(input(\"elements of array: \"))\n",
        "\tarr.append(elements) \n",
        "print(\"\\nUnsorted array:\",arr)\n",
        "\n",
        "#sorted array\n",
        "mergeSort(arr, 0, n-1)\n",
        "print(\"\\nSorted array:\",arr)\n",
        "\n",
        "\n"
      ],
      "execution_count": 3,
      "outputs": [
        {
          "output_type": "stream",
          "name": "stdout",
          "text": [
            "no of elements:7\n",
            "elements of array: 20\n",
            "elements of array: 3\n",
            "elements of array: 7\n",
            "elements of array: 15\n",
            "elements of array: 0\n",
            "elements of array: 17\n",
            "elements of array: 9\n",
            "Unsorted array: [20, 3, 7, 15, 0, 17, 9]\n",
            "\n",
            "Sorted array: [0, 3, 7, 9, 15, 17, 20]\n"
          ]
        }
      ]
    }
  ]
}