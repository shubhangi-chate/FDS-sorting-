{
  "nbformat": 4,
  "nbformat_minor": 0,
  "metadata": {
    "colab": {
      "name": "Bubblesort (fds).ipynb",
      "provenance": [],
      "collapsed_sections": [],
      "authorship_tag": "ABX9TyPUpMfHB2fI71WjSntfH8Rv"
    },
    "kernelspec": {
      "name": "python3",
      "display_name": "Python 3"
    },
    "language_info": {
      "name": "python"
    }
  },
  "cells": [
    {
      "cell_type": "code",
      "metadata": {
        "colab": {
          "base_uri": "https://localhost:8080/"
        },
        "id": "LZsnoJKl272C",
        "outputId": "839ab29c-b55a-401e-987f-eadb5a4425a0"
      },
      "source": [
        "def createArray(n):\n",
        "    arr= []\n",
        "    for i in range(n):\n",
        "        percentage = float(input(f\"Enter percentage of student {i+1}: \"))\n",
        "        arr.append(percentage)\n",
        "    return arr\n",
        "\n",
        "def bubbleSort(arr):\n",
        "    n = len(arr)\n",
        "    for i in range(1, n):\n",
        "        for j in range(n-1):\n",
        "            if arr[j]>arr[j+1]:\n",
        "                arr[j+1], arr[j] = arr[j], arr[j+1]\n",
        "    return arr\n",
        "\n",
        "n = int(input(\"Enter total number of students value: \"))\n",
        "arr= createArray(n)\n",
        "mini = len(arr)-6\n",
        "maxi = len(arr)-1\n",
        "index = 1\n",
        "arr = bubbleSort(arr)\n",
        "print(\"Top scores\\n\") #using bubble sort\n",
        "for i in range(maxi, mini, -1):\n",
        "    if i>=0:\n",
        "        print(f\"Topper No. {index}\", arr[i],\"\\n\")\n",
        "    else:\n",
        "        break\n",
        "    index+=1   "
      ],
      "execution_count": 2,
      "outputs": [
        {
          "output_type": "stream",
          "name": "stdout",
          "text": [
            "Enter total number of students value: 5\n",
            "Enter percentage of student 1: 79\n",
            "Enter percentage of student 2: 88\n",
            "Enter percentage of student 3: 91\n",
            "Enter percentage of student 4: 69\n",
            "Enter percentage of student 5: 83\n",
            "Top scores\n",
            "\n",
            "Topper No. 1 91.0 \n",
            "\n",
            "Topper No. 2 88.0 \n",
            "\n",
            "Topper No. 3 83.0 \n",
            "\n",
            "Topper No. 4 79.0 \n",
            "\n",
            "Topper No. 5 69.0 \n",
            "\n"
          ]
        }
      ]
    },
    {
      "cell_type": "code",
      "metadata": {
        "id": "0gWoBYv98BPh"
      },
      "source": [
        ""
      ],
      "execution_count": null,
      "outputs": []
    }
  ]
}