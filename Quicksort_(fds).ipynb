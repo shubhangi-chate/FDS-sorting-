{
  "nbformat": 4,
  "nbformat_minor": 0,
  "metadata": {
    "colab": {
      "name": "Quicksort (fds).ipynb",
      "provenance": [],
      "collapsed_sections": [],
      "authorship_tag": "ABX9TyNaUDFl5jfTDcpOM+o535J8"
    },
    "kernelspec": {
      "name": "python3",
      "display_name": "Python 3"
    },
    "language_info": {
      "name": "python"
    }
  },
  "cells": [
    {
      "cell_type": "code",
      "metadata": {
        "colab": {
          "base_uri": "https://localhost:8080/"
        },
        "id": "yID_NPzWokRW",
        "outputId": "0e1271b7-8b8b-464c-b3ef-7b4fd5f8fa91"
      },
      "source": [
        "def createArray(n):\n",
        "    array = []\n",
        "    for i in range(n):\n",
        "        percentage = float(input(f\"Enter percentage of student {i+1}: \"))\n",
        "        array.append(percentage)\n",
        "    return array\n",
        "\n",
        "# Quick Sort\n",
        "def quickSort(array, start, end):\n",
        "    if start < end:\n",
        "        pivot = array[start]\n",
        "        i = start+1\n",
        "        j = end\n",
        "        while True:\n",
        "            while i<=j and array[i]<=pivot:\n",
        "                i+=1\n",
        "            while i<=j and array[j]>=pivot:\n",
        "                j-=1\n",
        "            if j<i:\n",
        "                break\n",
        "            else:\n",
        "                array[i], array[j] = array[j], array[i]\n",
        "        array[start], array[j] = array[j], array[start]\n",
        "        quickSort(array, start, j-1)\n",
        "        quickSort(array, j+1, end)\n",
        "        return array\n",
        "\n",
        "n = int(input(\"Enter total number of students value: \"))\n",
        "array = createArray(n)\n",
        "min = len(array)-6\n",
        "max = len(array)-1\n",
        "index = 1\n",
        "start = 0\n",
        "end = len(array)-1\n",
        "array = quickSort(array,start, end )\n",
        "print(\"Top scores::\\n\") #using bubble sort\n",
        "for i in range(max, min, -1):\n",
        "    if i>=0:\n",
        "        print(f\"Topper No. {index}\", array[i],\"\\n\")\n",
        "    else:\n",
        "        break\n",
        "    index+=1   "
      ],
      "execution_count": 16,
      "outputs": [
        {
          "output_type": "stream",
          "name": "stdout",
          "text": [
            "Enter total number of students value: 5\n",
            "Enter percentage of student 1: 77\n",
            "Enter percentage of student 2: 88\n",
            "Enter percentage of student 3: 55\n",
            "Enter percentage of student 4: 99\n",
            "Enter percentage of student 5: 66\n",
            "Top scores::\n",
            "\n",
            "Topper No. 1 99.0 \n",
            "\n",
            "Topper No. 2 88.0 \n",
            "\n",
            "Topper No. 3 77.0 \n",
            "\n",
            "Topper No. 4 66.0 \n",
            "\n",
            "Topper No. 5 55.0 \n",
            "\n"
          ]
        }
      ]
    }
  ]
}